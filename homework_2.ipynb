{
 "cells": [
  {
   "cell_type": "markdown",
   "metadata": {},
   "source": [
    "### 1.İçerisinde 7 günün bulunduğu bir sözlük oluşturun. Kullanıcıya günleri listeleyerek 2 farklı gün seçmesini isteyin (örneğin pazartesi ve salı için \"12\" gibi). Kullanıcının seçtiği günleri sözlükten silerek kalan 5 günü ekrana yazdırın."
   ]
  },
  {
   "cell_type": "code",
   "execution_count": 1,
   "metadata": {},
   "outputs": [
    {
     "name": "stdout",
     "output_type": "stream",
     "text": [
      "Bu listede yer alan günlerden 2 farklı gün secin {'1': 'pazartesi', '2': 'sali', '3': 'carsamba', '4': 'persembe', '5': 'cuma', '6': 'cumartesi', '7': 'pazar'}: 23\n",
      "\n",
      " Kalan günler : dict_values(['pazartesi', 'persembe', 'cuma', 'cumartesi', 'pazar'])\n"
     ]
    }
   ],
   "source": [
    "gunler = {\"1\":\"pazartesi\",\"2\":\"sali\",\"3\":\"carsamba\",\"4\":\"persembe\",\"5\":\"cuma\",\"6\":\"cumartesi\",\"7\":\"pazar\"}\n",
    "\n",
    "kullanıcı = str(input(\"Bu listede yer alan günlerden 2 farklı gün secin {}: \".format(gunler)))\n",
    "\n",
    "kullanıcı = list(kullanıcı)\n",
    "\n",
    "del gunler[kullanıcı[0]]\n",
    "del gunler[kullanıcı[1]]\n",
    "\n",
    "\n",
    "print(\"\\n\",\"Kalan günler : {}\".format(gunler.values()))"
   ]
  },
  {
   "cell_type": "markdown",
   "metadata": {},
   "source": [
    "### 2.Ayların kaç gün çektiğini karıştırabiliyoruz. Bunun için bir liste oluşturun ancak listenizde ay isimleri ve gün sayıları beraber bulunsun (ipucu: listenizin içinde başka bir veri yapısı yer alacak!)."
   ]
  },
  {
   "cell_type": "code",
   "execution_count": 2,
   "metadata": {},
   "outputs": [
    {
     "name": "stdout",
     "output_type": "stream",
     "text": [
      "[('ocak', 31), ('subat', 28), ('mart', 31), ('nisan', 30), ('mayıs', 31), ('haziran', 30), ('temmuz', 31), ('ağustos', 31), ('eylül', 30), ('ekim', 31), ('kasım', 30), ('aralık', 31)]\n"
     ]
    }
   ],
   "source": [
    "aylar = [(\"ocak\",31),(\"subat\",28),(\"mart\",31),(\"nisan\",30),(\"mayıs\",31),(\"haziran\",30),(\"temmuz\",31),(\"ağustos\",31),(\"eylül\",30),(\"ekim\",31),(\"kasım\",30),(\"aralık\",31)]\n",
    "\n",
    "print(aylar)"
   ]
  },
  {
   "cell_type": "markdown",
   "metadata": {},
   "source": [
    "### 3.Bilgileri bir önceki listeden alan başka bir ay listesi oluşturun. Bu kez ayları günlerle birlikte listenin içinde iki ayrı listede tutun."
   ]
  },
  {
   "cell_type": "code",
   "execution_count": 3,
   "metadata": {},
   "outputs": [
    {
     "name": "stdout",
     "output_type": "stream",
     "text": [
      "[['ocak', 'subat', 'mart', 'nisan', 'mayıs', 'haziran', 'temmuz', 'ağustos', 'eylül', 'ekim', 'kasım', 'aralık'], [31, 28, 31, 30, 31, 30, 31, 31, 30, 31, 30, 31]]\n"
     ]
    }
   ],
   "source": [
    "\n",
    "aylar1 = [[],[]]\n",
    "aylar1[1].append(aylar[0][1])\n",
    "aylar1[1].append(aylar[1][1])\n",
    "aylar1[1].append(aylar[2][1])\n",
    "aylar1[1].append(aylar[3][1])\n",
    "aylar1[1].append(aylar[4][1])\n",
    "aylar1[1].append(aylar[5][1])\n",
    "aylar1[1].append(aylar[6][1])\n",
    "aylar1[1].append(aylar[7][1])\n",
    "aylar1[1].append(aylar[8][1])\n",
    "aylar1[1].append(aylar[9][1])\n",
    "aylar1[1].append(aylar[10][1])\n",
    "aylar1[1].append(aylar[11][1])\n",
    "\n",
    "aylar1[0].append(aylar[0][0])\n",
    "aylar1[0].append(aylar[1][0])\n",
    "aylar1[0].append(aylar[2][0])\n",
    "aylar1[0].append(aylar[3][0])\n",
    "aylar1[0].append(aylar[4][0])\n",
    "aylar1[0].append(aylar[5][0])\n",
    "aylar1[0].append(aylar[6][0])\n",
    "aylar1[0].append(aylar[7][0])\n",
    "aylar1[0].append(aylar[8][0])\n",
    "aylar1[0].append(aylar[9][0])\n",
    "aylar1[0].append(aylar[10][0])\n",
    "aylar1[0].append(aylar[11][0])\n",
    "\n",
    "\n",
    "print(aylar1)"
   ]
  },
  {
   "cell_type": "code",
   "execution_count": 4,
   "metadata": {},
   "outputs": [
    {
     "name": "stdout",
     "output_type": "stream",
     "text": [
      "[['ocak', 'subat', 'mart', 'nisan', 'mayıs', 'haziran', 'temmuz', 'ağustos', 'eylül', 'ekim', 'kasım', 'aralık'], [31, 28, 31, 30, 31, 30, 31, 31, 30, 31, 30, 31]]\n"
     ]
    }
   ],
   "source": [
    "aylar1 = [[],[]]\n",
    "for i in range(0,12):\n",
    "    aylar1[0].append(aylar[i][0])\n",
    "    \n",
    "for i in range(0,12):\n",
    "    aylar1[1].append(aylar[i][1])\n",
    "\n",
    "print(aylar1)"
   ]
  },
  {
   "cell_type": "markdown",
   "metadata": {},
   "source": [
    "### 4.Şimdi ise mevsim mevsim ayrılmış ay listeleri oluşturun. Liste adlarına mevsimlerin adlarını verin."
   ]
  },
  {
   "cell_type": "code",
   "execution_count": 5,
   "metadata": {},
   "outputs": [
    {
     "name": "stdout",
     "output_type": "stream",
     "text": [
      "ilkbahar :  [[('mart', 31), ('nisan', 30), ('mayıs', 31)]] \n",
      "\n",
      "yaz :  [[('haziran', 30), ('temmuz', 31), ('ağustos', 31)]] \n",
      "\n",
      "sonbahar :  [[('eylül', 30), ('ekim', 31), ('kasım', 30)]] \n",
      "\n",
      "kıs :  [[('aralık', 31)], [('ocak', 31), ('subat', 28)]] \n",
      "\n"
     ]
    }
   ],
   "source": [
    "\n",
    "ilkbahar = []\n",
    "yaz = []\n",
    "sonbahar = []\n",
    "kıs = []\n",
    "\n",
    "ilkbahar.append(aylar[2:5])\n",
    "yaz.append(aylar[5:8])\n",
    "sonbahar.append(aylar[8:11])\n",
    "kıs.append(aylar[11:12])\n",
    "kıs.append(aylar[:2])\n",
    "\n",
    "print(\"ilkbahar : \",ilkbahar,\"\\n\")\n",
    "print(\"yaz : \",yaz,\"\\n\")\n",
    "print(\"sonbahar : \",sonbahar,\"\\n\")\n",
    "print(\"kıs : \",kıs,\"\\n\")\n"
   ]
  },
  {
   "cell_type": "markdown",
   "metadata": {},
   "source": [
    "### 5.Son olarak, bir önceki sorudaki listeden yaz ayının kaç gün sürdüğünü hesaplayın."
   ]
  },
  {
   "cell_type": "code",
   "execution_count": 6,
   "metadata": {},
   "outputs": [
    {
     "name": "stdout",
     "output_type": "stream",
     "text": [
      "Yaz günü toplam 92 gün sürer.\n"
     ]
    }
   ],
   "source": [
    "yaz_gün = yaz[0][0][1] + yaz[0][1][1] + yaz[0][2][1]\n",
    "\n",
    "print(\"Yaz günü toplam {} gün sürer.\".format(yaz_gün))"
   ]
  }
 ],
 "metadata": {
  "kernelspec": {
   "display_name": "Python 3",
   "language": "python",
   "name": "python3"
  },
  "language_info": {
   "codemirror_mode": {
    "name": "ipython",
    "version": 3
   },
   "file_extension": ".py",
   "mimetype": "text/x-python",
   "name": "python",
   "nbconvert_exporter": "python",
   "pygments_lexer": "ipython3",
   "version": "3.8.3"
  }
 },
 "nbformat": 4,
 "nbformat_minor": 4
}
