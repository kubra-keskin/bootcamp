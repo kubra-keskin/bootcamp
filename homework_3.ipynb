{
 "cells": [
  {
   "cell_type": "markdown",
   "metadata": {},
   "source": [
    "### 1.Kullanıcıdan Santigrat ya da Fahrenheit olarak sıcaklık değerini alacak ve diğer sıcaklık birimine çevirecek bir kod yazın. Dönüşüm için C = (5/9) * (F - 32) formülünü kullanabilirsiniz.\n",
    "\n",
    " Örnek : \"40C\" --> \"104F\"\n",
    "         \"52F\" --> \"11.1\""
   ]
  },
  {
   "cell_type": "code",
   "execution_count": 165,
   "metadata": {},
   "outputs": [
    {
     "name": "stdout",
     "output_type": "stream",
     "text": [
      "Dönüştürmek istediğiniz sıcaklık değerini birimiyle birlikte girin: 40C\n",
      "Girdiğiniz sıcaklık değeri 104.00F'a eşittir.\n"
     ]
    }
   ],
   "source": [
    "c = input(\"Dönüştürmek istediğiniz sıcaklık değerini birimiyle birlikte girin: \")\n",
    "\n",
    "if \"F\" in c:\n",
    "    \n",
    "    a=int(c[:-1])\n",
    "    b=(a-32)*(5/9)\n",
    "    print(\"Girdiğiniz sıcaklık değeri {:.2f}C'a eşittir.\".format(b))\n",
    "\n",
    "elif \"C\" in c:\n",
    "    \n",
    "    d=int(c[:-1])\n",
    "    e=(9/5)*d+32\n",
    "    print(\"Girdiğiniz sıcaklık değeri {:.2f}F'a eşittir.\".format(e))\n",
    "\n",
    "else:\n",
    "    print(\"Gecersiz sıcaklık değeri girdiniz.\")"
   ]
  },
  {
   "cell_type": "markdown",
   "metadata": {},
   "source": [
    "### 2.Kullanıcının girdiği kelimeyi ters çeviren bir kod yazınız.\n",
    "\n",
    " Örnek : \"otobüs\" --> \"süboto"
   ]
  },
  {
   "cell_type": "code",
   "execution_count": 70,
   "metadata": {},
   "outputs": [
    {
     "name": "stdout",
     "output_type": "stream",
     "text": [
      "kelime girin: otobüs\n",
      "süboto"
     ]
    }
   ],
   "source": [
    "word = input(\"kelime girin: \")\n",
    "\n",
    "a = len(word)\n",
    "\n",
    "for i in range(1,a+1):\n",
    "    b = word[a-i]\n",
    "    \n",
    "    print(b,end=\"\")"
   ]
  },
  {
   "cell_type": "markdown",
   "metadata": {},
   "source": [
    "### 3.1'den 50'ye kadar olan Fibonacci sayılarından oluşan bir liste oluşturun. İlk iki Fibonacci sayısı 1'dir. Sonraki sayılar, önceki iki sayının toplamıdır."
   ]
  },
  {
   "cell_type": "code",
   "execution_count": 161,
   "metadata": {},
   "outputs": [
    {
     "data": {
      "text/plain": [
       "[1, 1, 2, 3, 5, 8, 13, 21, 34]"
      ]
     },
     "execution_count": 161,
     "metadata": {},
     "output_type": "execute_result"
    }
   ],
   "source": [
    "f_list = []\n",
    "sayi1 = 1\n",
    "sayi2 = 1\n",
    "f_list.append(sayi1)\n",
    "f_list.append(sayi2)\n",
    "\n",
    "for i in range(0,7):\n",
    "    sayi3 = sayi1 + sayi2\n",
    "    \n",
    "    f_list.append(sayi3)\n",
    "    \n",
    "    sayi1 = sayi2\n",
    "    sayi2 = sayi3\n",
    "    \n",
    "f_list"
   ]
  },
  {
   "cell_type": "code",
   "execution_count": null,
   "metadata": {},
   "outputs": [],
   "source": []
  },
  {
   "cell_type": "markdown",
   "metadata": {},
   "source": [
    "### 4.Girilen bir sayı için çarpım tablosunu yazdırın.\n",
    "\n",
    " Örnek : Bir sayı girin : 6\n",
    "         \n",
    "         6 x 1 = 6                                                               \n",
    "         6 x 2 = 12                                                              \n",
    "         6 x 3 = 18                                                              \n",
    "         6 x 4 = 24                                                              \n",
    "         6 x 5 = 30                                                              \n",
    "         6 x 6 = 36                                                              \n",
    "         6 x 7 = 42                                                              \n",
    "         6 x 8 = 48                                                              \n",
    "         6 x 9 = 54                                                              \n",
    "         6 x 10 = 60 "
   ]
  },
  {
   "cell_type": "code",
   "execution_count": 163,
   "metadata": {},
   "outputs": [
    {
     "name": "stdout",
     "output_type": "stream",
     "text": [
      "Bir sayi girin: 9\n",
      "9 x 1 = 9\n",
      "9 x 2 = 18\n",
      "9 x 3 = 27\n",
      "9 x 4 = 36\n",
      "9 x 5 = 45\n",
      "9 x 6 = 54\n",
      "9 x 7 = 63\n",
      "9 x 8 = 72\n",
      "9 x 9 = 81\n",
      "9 x 10 = 90\n"
     ]
    }
   ],
   "source": [
    "sayi = int(input(\"Bir sayi girin: \"))\n",
    "\n",
    "for i in range(1,11):\n",
    "    print(\"{0} x {1} = {2}\".format(sayi,i,sayi*i))"
   ]
  },
  {
   "cell_type": "code",
   "execution_count": null,
   "metadata": {},
   "outputs": [],
   "source": []
  },
  {
   "cell_type": "markdown",
   "metadata": {},
   "source": [
    "### 5.List comprehension kullanarak, 1'den 20'ye kadar tek sayıların karesini, çift sayıların küpünü içeren bir liste oluşturun."
   ]
  },
  {
   "cell_type": "code",
   "execution_count": 76,
   "metadata": {},
   "outputs": [
    {
     "name": "stdout",
     "output_type": "stream",
     "text": [
      "[1, 8, 9, 64, 25, 216, 49, 512, 81, 1000, 121, 1728, 169, 2744, 225, 4096, 289, 5832, 361, 8000]\n"
     ]
    }
   ],
   "source": [
    "liste = [i**3 if i%2 == 0 else i**2 for i in range(1,21)]\n",
    "print(liste)"
   ]
  },
  {
   "cell_type": "code",
   "execution_count": null,
   "metadata": {},
   "outputs": [],
   "source": []
  }
 ],
 "metadata": {
  "kernelspec": {
   "display_name": "Python 3",
   "language": "python",
   "name": "python3"
  },
  "language_info": {
   "codemirror_mode": {
    "name": "ipython",
    "version": 3
   },
   "file_extension": ".py",
   "mimetype": "text/x-python",
   "name": "python",
   "nbconvert_exporter": "python",
   "pygments_lexer": "ipython3",
   "version": "3.8.3"
  }
 },
 "nbformat": 4,
 "nbformat_minor": 4
}
