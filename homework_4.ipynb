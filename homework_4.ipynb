{
 "cells": [
  {
   "cell_type": "markdown",
   "metadata": {},
   "source": [
    "### 1.Seçeceğiniz herhangi bir şiiri bilgisayarına .txt dsyası olarak kaydedin. Şiirin kaç dizeden oluştuğunu hesaplayın ve başka bir dosyaya her dizenin ilk kelimesini yazdırın."
   ]
  },
  {
   "cell_type": "code",
   "execution_count": 22,
   "metadata": {},
   "outputs": [
    {
     "name": "stdout",
     "output_type": "stream",
     "text": [
      "14\n"
     ]
    }
   ],
   "source": [
    "f = open(\"yasamak.txt\",\"r\",encoding = \"utf8\")\n",
    "\n",
    "def dize_sayisi(f):\n",
    "    count = 0\n",
    "    for i in f:\n",
    "        count+=1\n",
    "    return count\n",
    "\n",
    "print(dize_sayisi(f))\n",
    "        "
   ]
  },
  {
   "cell_type": "code",
   "execution_count": null,
   "metadata": {},
   "outputs": [],
   "source": []
  },
  {
   "cell_type": "code",
   "execution_count": null,
   "metadata": {},
   "outputs": [],
   "source": []
  },
  {
   "cell_type": "markdown",
   "metadata": {},
   "source": [
    "### 2.Parametre olarak girilen bir sayının asal sayı olup olmadığını belirten bir fonksiyon yazın."
   ]
  },
  {
   "cell_type": "code",
   "execution_count": 3,
   "metadata": {},
   "outputs": [
    {
     "name": "stdout",
     "output_type": "stream",
     "text": [
      "Bir sayi giriniz: 10\n",
      "Girdiginiz deger asal sayi degildir.\n",
      "10\n"
     ]
    }
   ],
   "source": [
    "a = int(input(\"Bir sayi giriniz: \"))\n",
    "\n",
    "def asal_mi(x):\n",
    "    for i in range(1,a):\n",
    "        if a%i == 0:\n",
    "            print(\"Girdiginiz deger asal sayi degildir.\")\n",
    "            break\n",
    "            \n",
    "        else:\n",
    "            print(\"Girdiginiz deger asal sayidir.\")\n",
    "    \n",
    "    return x\n",
    "\n",
    "print(asal_mi(a))\n",
    "            "
   ]
  },
  {
   "cell_type": "code",
   "execution_count": null,
   "metadata": {},
   "outputs": [],
   "source": []
  },
  {
   "cell_type": "code",
   "execution_count": null,
   "metadata": {},
   "outputs": [],
   "source": []
  },
  {
   "cell_type": "markdown",
   "metadata": {},
   "source": [
    "### 3.Parametre olarak girilecek listenin elemanlarını yeni bir listeye her değer sadece bir kere geçecek şekilde aktaran bir fonksiyon yazın. Normalde bu işlemi set() komutu ile yapabiliriz ama bu seferlik bu komutu kullanmayalım.\n",
    "\n",
    " Örnek : uniq_liste([1,2,2,3,3,4,4]) = [1,2,3,4]"
   ]
  },
  {
   "cell_type": "code",
   "execution_count": 1,
   "metadata": {},
   "outputs": [
    {
     "name": "stdout",
     "output_type": "stream",
     "text": [
      "[1, 2, 3, 4, 15]\n"
     ]
    }
   ],
   "source": [
    "liste = [1,2,2,3,3,4,4,15,15,15,15]\n",
    "uniq_liste = []\n",
    "\n",
    "def uniq(liste):\n",
    "    for i in liste:\n",
    "        if i in uniq_liste:\n",
    "            continue\n",
    "        \n",
    "        else:\n",
    "            uniq_liste.append(i)\n",
    "            \n",
    "    return uniq_liste\n",
    "\n",
    "print(uniq(liste))"
   ]
  },
  {
   "cell_type": "code",
   "execution_count": null,
   "metadata": {},
   "outputs": [],
   "source": []
  },
  {
   "cell_type": "markdown",
   "metadata": {},
   "source": [
    "### 4.Python'da hazır birçok modül bulunmaktadır. Zaman ile ilgili modüllerden birisini import ederek, parametre olarak doğum tarihi alan ve yaşı döndüren bir fonksiyon yazınız."
   ]
  },
  {
   "cell_type": "code",
   "execution_count": null,
   "metadata": {},
   "outputs": [],
   "source": []
  },
  {
   "cell_type": "code",
   "execution_count": 10,
   "metadata": {},
   "outputs": [
    {
     "name": "stdout",
     "output_type": "stream",
     "text": [
      "Dogum yilinizi girin: 1995\n",
      "26 yasindasiniz\n"
     ]
    }
   ],
   "source": [
    "import time\n",
    "\n",
    "a = int(input(\"Dogum yilinizi girin: \"))\n",
    "\n",
    "def yas_hesabi(a):\n",
    "    \n",
    "    year = time.localtime()\n",
    "    year = year.tm_year\n",
    "    yas = year-a\n",
    "    return yas\n",
    "\n",
    "print(\"{} yasindasiniz\".format(yas_hesabi(a)))"
   ]
  },
  {
   "cell_type": "code",
   "execution_count": null,
   "metadata": {},
   "outputs": [],
   "source": []
  }
 ],
 "metadata": {
  "kernelspec": {
   "display_name": "Python 3",
   "language": "python",
   "name": "python3"
  },
  "language_info": {
   "codemirror_mode": {
    "name": "ipython",
    "version": 3
   },
   "file_extension": ".py",
   "mimetype": "text/x-python",
   "name": "python",
   "nbconvert_exporter": "python",
   "pygments_lexer": "ipython3",
   "version": "3.8.3"
  }
 },
 "nbformat": 4,
 "nbformat_minor": 4
}
